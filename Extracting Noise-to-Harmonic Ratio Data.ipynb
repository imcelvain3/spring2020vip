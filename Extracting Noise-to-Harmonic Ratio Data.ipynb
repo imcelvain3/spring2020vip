{
 "cells": [
  {
   "cell_type": "markdown",
   "metadata": {},
   "source": [
    "# Extracting Harmonics-to-Noise Ratios for 24 Actors"
   ]
  },
  {
   "cell_type": "code",
   "execution_count": 1,
   "metadata": {},
   "outputs": [],
   "source": [
    "import parselmouth\n",
    "\n",
    "import numpy as np\n",
    "import pandas as pd\n",
    "import matplotlib.pyplot as plt\n",
    "import seaborn as sns\n",
    "import glob\n",
    "import os.path\n",
    "import os\n",
    "import sklearn"
   ]
  },
  {
   "cell_type": "markdown",
   "metadata": {},
   "source": [
    "Starting With All Speech"
   ]
  },
  {
   "cell_type": "code",
   "execution_count": 20,
   "metadata": {},
   "outputs": [],
   "source": [
    "all_emotion =[]\n",
    "all_ratios = []\n",
    "all_intensity = []\n",
    "all_actor = []\n",
    "\n",
    "def analyze(filename,n):\n",
    "    if filename.endswith(\".wav\"):\n",
    "        \n",
    "        all_emotion.append(filename[7])\n",
    "        \n",
    "        all_intensity.append(filename[10])\n",
    "        \n",
    "        all_actor.append(filename[18]+filename[19])\n",
    "        \n",
    "        snd=parselmouth.Sound('Audio_Speech_Actors_01-24/Actor_'+n+'/'+filename)\n",
    "\n",
    "        harmonicity = snd.to_harmonicity()\n",
    "        all_ratios.append(harmonicity.values[harmonicity.values != -200].mean())\n",
    "             \n",
    "        \n",
    "    else:\n",
    "        print(\"not a wav\" + filename)\n",
    "    return(all_actor, all_intensity, all_emotion, all_ratios)\n",
    "\n",
    "\n",
    "for x in ['01','02','03','04','05','06','07','08','09','10','11','12','13','14','15','16','17','18','19','20','21','22','23','24']:\n",
    "    for files in os.listdir('Audio_Speech_Actors_01-24/Actor_'+x):\n",
    "        actor, intensity, emotion, ratios=analyze(files,x)\n"
   ]
  },
  {
   "cell_type": "code",
   "execution_count": 21,
   "metadata": {},
   "outputs": [
    {
     "name": "stdout",
     "output_type": "stream",
     "text": [
      "     Actor Intensity Emotion  Noise-to-Harmonics\n",
      "0       01         1       1   7.490393884954903\n",
      "1       01         1       1   9.241042347000336\n",
      "2       01         1       1   8.468530824584317\n",
      "3       01         1       1   8.494922696945492\n",
      "4       01         1       2   8.064809824908748\n",
      "...    ...       ...     ...                 ...\n",
      "1435    24         1       8  11.068630905238184\n",
      "1436    24         2       8   8.949383399461706\n",
      "1437    24         2       8    9.45872772043557\n",
      "1438    24         2       8   7.740163226654132\n",
      "1439    24         2       8   8.564742917953613\n",
      "\n",
      "[1440 rows x 4 columns]\n"
     ]
    }
   ],
   "source": [
    "array=[actor, intensity, emotion, ratios]\n",
    "array=np.transpose(array)\n",
    "speechData = pd.DataFrame(array, columns=['Actor', 'Intensity', 'Emotion', 'Noise-to-Harmonics'])\n",
    "print(speechData)"
   ]
  },
  {
   "cell_type": "code",
   "execution_count": 27,
   "metadata": {},
   "outputs": [],
   "source": [
    "speechData.to_csv(\"speechData.csv\", index=False)"
   ]
  },
  {
   "cell_type": "markdown",
   "metadata": {},
   "source": [
    "All Song"
   ]
  },
  {
   "cell_type": "code",
   "execution_count": 23,
   "metadata": {},
   "outputs": [],
   "source": [
    "all_emotion2 =[]\n",
    "all_ratios2 = []\n",
    "all_intensity2 = []\n",
    "all_actor2 = []\n",
    "\n",
    "def analyze(filename,n):\n",
    "    if filename.endswith(\".wav\"):\n",
    "        \n",
    "        all_emotion2.append(filename[7])\n",
    "        \n",
    "        all_intensity2.append(filename[10])\n",
    "        \n",
    "        all_actor2.append(filename[18]+filename[19])\n",
    "        \n",
    "        snd=parselmouth.Sound('Audio_Song_Actors_01-24/Actor_'+n+'/'+filename)\n",
    "\n",
    "        harmonicity = snd.to_harmonicity()\n",
    "        all_ratios2.append(harmonicity.values[harmonicity.values != -200].mean())\n",
    "             \n",
    "        \n",
    "    else:\n",
    "        print(\"not a wav\" + filename)\n",
    "    return(all_actor2, all_intensity2, all_emotion2, all_ratios2)\n",
    "\n",
    "#list does not include 18, since no song data for actor 18\n",
    "\n",
    "for x in ['01','02','03','04','05','06','07','08','09','10','11','12','13','14','15','16','17','19','20','21','22','23','24']:\n",
    "    for files in os.listdir('Audio_Song_Actors_01-24/Actor_'+x):\n",
    "        actor2, intensity2, emotion2, ratios2=analyze(files,x)\n"
   ]
  },
  {
   "cell_type": "code",
   "execution_count": 24,
   "metadata": {},
   "outputs": [
    {
     "name": "stdout",
     "output_type": "stream",
     "text": [
      "     Actor Intensity Emotion  Noise-to-Harmonics\n",
      "0       01         1       1  16.960353283243737\n",
      "1       01         1       1   17.37291775243145\n",
      "2       01         1       1  14.975681382347764\n",
      "3       01         1       1  16.287885335211964\n",
      "4       01         1       2   18.54136658228011\n",
      "...    ...       ...     ...                 ...\n",
      "1007    24         1       6  15.512914861560098\n",
      "1008    24         2       6   16.90888497517109\n",
      "1009    24         2       6  12.568354295592165\n",
      "1010    24         2       6   11.29877832487415\n",
      "1011    24         2       6  12.769951351316948\n",
      "\n",
      "[1012 rows x 4 columns]\n"
     ]
    }
   ],
   "source": [
    "array2=[actor2, intensity2, emotion2, ratios2]\n",
    "array2=np.transpose(array2)\n",
    "songData = pd.DataFrame(array2, columns=['Actor', 'Intensity', 'Emotion', 'Noise-to-Harmonics'])\n",
    "print(songData)"
   ]
  },
  {
   "cell_type": "code",
   "execution_count": 26,
   "metadata": {},
   "outputs": [],
   "source": [
    "songData.to_csv(\"songData.csv\", index=False)"
   ]
  }
 ],
 "metadata": {
  "kernelspec": {
   "display_name": "Python 3",
   "language": "python",
   "name": "python3"
  },
  "language_info": {
   "codemirror_mode": {
    "name": "ipython",
    "version": 3
   },
   "file_extension": ".py",
   "mimetype": "text/x-python",
   "name": "python",
   "nbconvert_exporter": "python",
   "pygments_lexer": "ipython3",
   "version": "3.7.4"
  }
 },
 "nbformat": 4,
 "nbformat_minor": 2
}
